{
 "cells": [
  {
   "cell_type": "code",
   "execution_count": 1,
   "id": "8367ddcd",
   "metadata": {},
   "outputs": [],
   "source": [
    "import pyautogui\n",
    "import pyperclip\n",
    "import time"
   ]
  },
  {
   "cell_type": "markdown",
   "id": "4cf87faa",
   "metadata": {},
   "source": [
    "### Abrindo o google drive e baixando planilha"
   ]
  },
  {
   "cell_type": "code",
   "execution_count": 2,
   "id": "0dd45dc4",
   "metadata": {},
   "outputs": [],
   "source": [
    "url = \"https://drive.google.com/drive/folders/14oLE59U1RqyRqlBbKpsyymW-mitvbtoh\""
   ]
  },
  {
   "cell_type": "code",
   "execution_count": 3,
   "id": "48580713",
   "metadata": {},
   "outputs": [],
   "source": [
    "#seta um delay em cada operação (em segundos)\n",
    "pyautogui.pause = 1"
   ]
  },
  {
   "cell_type": "code",
   "execution_count": 4,
   "id": "3998601b",
   "metadata": {},
   "outputs": [],
   "source": [
    "#Abre uma nova aba e acessa a url\n",
    "def abrir_pagina(url):\n",
    "    pyautogui.hotkey('ctrl', 't')\n",
    "    pyperclip.copy(url) #evita problema com caracter especial\n",
    "    pyautogui.hotkey('ctrl', 'v')\n",
    "    pyautogui.press('enter')\n",
    "    time.sleep(3)\n",
    "abrir_pagina(url)"
   ]
  },
  {
   "cell_type": "code",
   "execution_count": 5,
   "id": "45ac30f0",
   "metadata": {},
   "outputs": [],
   "source": [
    "def click(x,y):\n",
    "    time.sleep(5)\n",
    "    pyautogui.click(x=x, y=y)\n",
    "    \n",
    "click(418,389) #seleciona o arquivo\n",
    "click(1153, 229) #clica no menu\n",
    "click(901, 660) #clica em download"
   ]
  },
  {
   "cell_type": "code",
   "execution_count": 6,
   "id": "de1c12b9",
   "metadata": {},
   "outputs": [],
   "source": [
    "#pressiona enter para saalvar o arquivo na pasta\n",
    "time.sleep(3)\n",
    "pyautogui.press('enter')"
   ]
  },
  {
   "cell_type": "code",
   "execution_count": 7,
   "id": "741b0c74",
   "metadata": {},
   "outputs": [],
   "source": [
    "#garante que arquivo estará no diretório para próximos passos\n",
    "time.sleep(5)"
   ]
  },
  {
   "cell_type": "markdown",
   "id": "5912f036",
   "metadata": {},
   "source": [
    "### Analisando dados da planilha"
   ]
  },
  {
   "cell_type": "code",
   "execution_count": 8,
   "id": "0769b233",
   "metadata": {},
   "outputs": [],
   "source": [
    "import pandas as pd"
   ]
  },
  {
   "cell_type": "code",
   "execution_count": 9,
   "id": "3abf6e31",
   "metadata": {},
   "outputs": [],
   "source": [
    "tabela = pd.read_excel('Vendas - Dez.xlsx')"
   ]
  },
  {
   "cell_type": "code",
   "execution_count": 10,
   "id": "612546c0",
   "metadata": {},
   "outputs": [
    {
     "data": {
      "text/html": [
       "<div>\n",
       "<style scoped>\n",
       "    .dataframe tbody tr th:only-of-type {\n",
       "        vertical-align: middle;\n",
       "    }\n",
       "\n",
       "    .dataframe tbody tr th {\n",
       "        vertical-align: top;\n",
       "    }\n",
       "\n",
       "    .dataframe thead th {\n",
       "        text-align: right;\n",
       "    }\n",
       "</style>\n",
       "<table border=\"1\" class=\"dataframe\">\n",
       "  <thead>\n",
       "    <tr style=\"text-align: right;\">\n",
       "      <th></th>\n",
       "      <th>Código Venda</th>\n",
       "      <th>Data</th>\n",
       "      <th>ID Loja</th>\n",
       "      <th>Produto</th>\n",
       "      <th>Quantidade</th>\n",
       "      <th>Valor Unitário</th>\n",
       "      <th>Valor Final</th>\n",
       "    </tr>\n",
       "  </thead>\n",
       "  <tbody>\n",
       "    <tr>\n",
       "      <th>0</th>\n",
       "      <td>65014</td>\n",
       "      <td>2019-12-01</td>\n",
       "      <td>Shopping Morumbi</td>\n",
       "      <td>Sunga Listrado</td>\n",
       "      <td>5</td>\n",
       "      <td>114</td>\n",
       "      <td>570</td>\n",
       "    </tr>\n",
       "    <tr>\n",
       "      <th>1</th>\n",
       "      <td>65014</td>\n",
       "      <td>2019-12-01</td>\n",
       "      <td>Shopping Morumbi</td>\n",
       "      <td>Casaco Listrado</td>\n",
       "      <td>1</td>\n",
       "      <td>269</td>\n",
       "      <td>269</td>\n",
       "    </tr>\n",
       "    <tr>\n",
       "      <th>2</th>\n",
       "      <td>65016</td>\n",
       "      <td>2019-12-01</td>\n",
       "      <td>Iguatemi Campinas</td>\n",
       "      <td>Sapato Listrado</td>\n",
       "      <td>2</td>\n",
       "      <td>363</td>\n",
       "      <td>726</td>\n",
       "    </tr>\n",
       "    <tr>\n",
       "      <th>3</th>\n",
       "      <td>65016</td>\n",
       "      <td>2019-12-01</td>\n",
       "      <td>Iguatemi Campinas</td>\n",
       "      <td>Casaco</td>\n",
       "      <td>1</td>\n",
       "      <td>250</td>\n",
       "      <td>250</td>\n",
       "    </tr>\n",
       "    <tr>\n",
       "      <th>4</th>\n",
       "      <td>65017</td>\n",
       "      <td>2019-12-01</td>\n",
       "      <td>Shopping SP Market</td>\n",
       "      <td>Gorro Liso</td>\n",
       "      <td>3</td>\n",
       "      <td>92</td>\n",
       "      <td>276</td>\n",
       "    </tr>\n",
       "  </tbody>\n",
       "</table>\n",
       "</div>"
      ],
      "text/plain": [
       "   Código Venda       Data             ID Loja          Produto  Quantidade  \\\n",
       "0         65014 2019-12-01    Shopping Morumbi   Sunga Listrado           5   \n",
       "1         65014 2019-12-01    Shopping Morumbi  Casaco Listrado           1   \n",
       "2         65016 2019-12-01   Iguatemi Campinas  Sapato Listrado           2   \n",
       "3         65016 2019-12-01   Iguatemi Campinas           Casaco           1   \n",
       "4         65017 2019-12-01  Shopping SP Market       Gorro Liso           3   \n",
       "\n",
       "   Valor Unitário  Valor Final  \n",
       "0             114          570  \n",
       "1             269          269  \n",
       "2             363          726  \n",
       "3             250          250  \n",
       "4              92          276  "
      ]
     },
     "execution_count": 10,
     "metadata": {},
     "output_type": "execute_result"
    }
   ],
   "source": [
    "tabela.head()"
   ]
  },
  {
   "cell_type": "code",
   "execution_count": 11,
   "id": "92a4ca92",
   "metadata": {},
   "outputs": [
    {
     "name": "stdout",
     "output_type": "stream",
     "text": [
      "Faturamento R$ 2917311\n"
     ]
    }
   ],
   "source": [
    "faturamento = tabela['Valor Final'].sum()\n",
    "print(f\"Faturamento R$ {faturamento}\")"
   ]
  },
  {
   "cell_type": "code",
   "execution_count": 12,
   "id": "091aede3",
   "metadata": {},
   "outputs": [],
   "source": [
    "produtos_mais_vendidos = tabela[['Produto', 'Quantidade']].sort_values(by='Quantidade',\n",
    "                                                                       ascending=False)"
   ]
  },
  {
   "cell_type": "code",
   "execution_count": 13,
   "id": "ec972daf",
   "metadata": {},
   "outputs": [
    {
     "data": {
      "text/plain": [
       "'Sunga Listrado, Casaco Listrado, Sapato Listrado, Casaco, Gorro Liso'"
      ]
     },
     "execution_count": 13,
     "metadata": {},
     "output_type": "execute_result"
    }
   ],
   "source": [
    "lista = []\n",
    "for i in range(5):\n",
    "    lista.append(produtos_mais_vendidos['Produto'][i])\n",
    "mais_vendidos = \", \".join(lista)\n",
    "mais_vendidos"
   ]
  },
  {
   "cell_type": "code",
   "execution_count": 14,
   "id": "d632a8fa",
   "metadata": {},
   "outputs": [],
   "source": [
    "lojas_faturamento = tabela[['ID Loja', 'Valor Final']]\n",
    "lojas_faturamento = lojas_faturamento.groupby(['ID Loja']).sum()"
   ]
  },
  {
   "cell_type": "code",
   "execution_count": 15,
   "id": "a7194207",
   "metadata": {},
   "outputs": [],
   "source": [
    "lojas_destaque = lojas_faturamento.sort_values(by='Valor Final', ascending=False)\n",
    "lojas_destaque.reset_index(inplace=True)"
   ]
  },
  {
   "cell_type": "code",
   "execution_count": 16,
   "id": "a2167855",
   "metadata": {},
   "outputs": [
    {
     "data": {
      "text/plain": [
       "'Iguatemi Campinas: R$ 149959; Rio Mar Recife: R$ 139869; Shopping Recife: R$ 131871; Salvador Shopping: R$ 129156; Rio Mar Shopping Fortaleza: R$ 127890'"
      ]
     },
     "execution_count": 16,
     "metadata": {},
     "output_type": "execute_result"
    }
   ],
   "source": [
    "lista2 = []\n",
    "for i in range(5):\n",
    "    lista2.append(f\"{lojas_destaque['ID Loja'][i]}: R$ {lojas_destaque['Valor Final'][i]}\")\n",
    "lojas = \"; \".join(lista2)\n",
    "lojas"
   ]
  },
  {
   "cell_type": "markdown",
   "id": "7b49b0ee",
   "metadata": {},
   "source": [
    "### Enviando e-mail com relatório"
   ]
  },
  {
   "cell_type": "code",
   "execution_count": 17,
   "id": "ebcf85f6",
   "metadata": {},
   "outputs": [],
   "source": [
    "from datetime import date\n",
    "data = date.today()\n",
    "hoje = data.strftime(\"%d/%m/%Y\")"
   ]
  },
  {
   "cell_type": "code",
   "execution_count": 18,
   "id": "87d30468",
   "metadata": {},
   "outputs": [],
   "source": [
    "url2 = \"https://mail.google.com/mail/u/0/\""
   ]
  },
  {
   "cell_type": "code",
   "execution_count": 19,
   "id": "854bef35",
   "metadata": {},
   "outputs": [],
   "source": [
    "abrir_pagina(url2)"
   ]
  },
  {
   "cell_type": "code",
   "execution_count": 20,
   "id": "408eea9d",
   "metadata": {},
   "outputs": [],
   "source": [
    "#clicar em Escrever (novo e-mail)\n",
    "click(150, 231)"
   ]
  },
  {
   "cell_type": "code",
   "execution_count": 21,
   "id": "7e4ad389",
   "metadata": {},
   "outputs": [],
   "source": [
    "email = 'email@gmail.com'\n",
    "titulo = f'Relatorio Faturamento - {hoje}'\n",
    "texto = f\"\"\"Prezados,\n",
    "Na data de hoje, {hoje}, o faturamento consolidado das lojas foi de R$ {faturamento}.\n",
    "Os cinco produtos mais vendidos foram: {mais_vendidos}.\n",
    "As lojas top 5 de faturamento hoje foram: {lojas}.\n",
    "Atenciosamente,\n",
    "Dep. Comercial\n",
    "\"\"\""
   ]
  },
  {
   "cell_type": "code",
   "execution_count": 22,
   "id": "43e28cba",
   "metadata": {},
   "outputs": [],
   "source": [
    "def enviar_email(destinatario, assunto, corpo):\n",
    "    time.sleep(3)\n",
    "    pyautogui.write(email)\n",
    "    pyautogui.press('\\t')\n",
    "    pyautogui.press('\\t')\n",
    "    pyautogui.write(assunto)\n",
    "    pyautogui.press('\\t')\n",
    "    pyautogui.write(corpo)\n",
    "    pyautogui.hotkey('ctrl', 'enter')\n",
    "enviar_email(email, titulo, texto)"
   ]
  },
  {
   "cell_type": "code",
   "execution_count": 23,
   "id": "97e6d4b9",
   "metadata": {},
   "outputs": [],
   "source": [
    "#Como descobrir a posicao do mouse de um elemento\n",
    "#time.sleep(5)\n",
    "#posicao_mouse = pyautogui.position()\n",
    "#print(posicao_mouse)"
   ]
  }
 ],
 "metadata": {
  "kernelspec": {
   "display_name": "Python 3 (ipykernel)",
   "language": "python",
   "name": "python3"
  },
  "language_info": {
   "codemirror_mode": {
    "name": "ipython",
    "version": 3
   },
   "file_extension": ".py",
   "mimetype": "text/x-python",
   "name": "python",
   "nbconvert_exporter": "python",
   "pygments_lexer": "ipython3",
   "version": "3.9.7"
  }
 },
 "nbformat": 4,
 "nbformat_minor": 5
}
